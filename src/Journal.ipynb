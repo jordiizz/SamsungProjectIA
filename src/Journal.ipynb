{
 "cells": [
  {
   "cell_type": "code",
   "execution_count": 11,
   "metadata": {},
   "outputs": [
    {
     "name": "stdout",
     "output_type": "stream",
     "text": [
      "Path to dataset files: /home/jordi/.cache/kagglehub/datasets/infamouscoder/depression-reddit-cleaned/versions/1\n",
      "Archivos:  []\n"
     ]
    }
   ],
   "source": [
    "import kagglehub\n",
    "import os\n",
    "import numpy as np\n",
    "import pandas as pd\n",
    "import re\n",
    "import nltk\n",
    "from nltk.corpus import stopwords\n",
    "from sklearn.model_selection import train_test_split\n",
    "from mlxtend.plotting import plot_confusion_matrix\n",
    "from sklearn.tree import DecisionTreeClassifier\n",
    "from sklearn.ensemble import RandomForestClassifier\n",
    "from sklearn.metrics import accuracy_score, confusion_matrix, classification_report\n",
    "\n",
    "\n",
    "\n",
    "path = kagglehub.dataset_download(\"infamouscoder/depression-reddit-cleaned\")\n",
    "print(\"Path to dataset files:\", path)\n",
    "print('Archivos: ', os.listdir(path=path))\n",
    "\n",
    "df = pd.read_csv('../DataSets/depression_dataset_reddit_cleaned.csv')"
   ]
  },
  {
   "cell_type": "code",
   "execution_count": 12,
   "metadata": {},
   "outputs": [
    {
     "name": "stdout",
     "output_type": "stream",
     "text": [
      "Cantidad de Filas 7731 -- Cantidad Columnas 2\n"
     ]
    },
    {
     "data": {
      "text/plain": [
       "clean_text       0\n",
       "is_depression    0\n",
       "dtype: int64"
      ]
     },
     "execution_count": 12,
     "metadata": {},
     "output_type": "execute_result"
    }
   ],
   "source": [
    "#df analysis\n",
    "len(df)\n",
    "df.head(3)\n",
    "filas, columns = df.shape\n",
    "print(f'Cantidad de Filas {filas} -- Cantidad Columnas {columns}')\n",
    "df.is_depression.unique() #Indicates probable depression boolean 1True 0False\n",
    "df.isna().sum() #Indicates data is already clean"
   ]
  },
  {
   "cell_type": "code",
   "execution_count": 13,
   "metadata": {},
   "outputs": [
    {
     "name": "stdout",
     "output_type": "stream",
     "text": [
      "0       we understand that most people who reply immed...\n",
      "1       welcome to r depression s check in post a plac...\n",
      "2       anyone else instead of sleeping more when depr...\n",
      "3       i ve kind of stuffed around a lot in my life d...\n",
      "4       sleep is my greatest and most comforting escap...\n",
      "                              ...                        \n",
      "3826    thlolo march eh it s because i don t want stre...\n",
      "3827    i hate it when i m having depression day and t...\n",
      "3828                               educational depression\n",
      "3829    dmt powder helping with depression amp anxiety...\n",
      "3830    the great depression money armageddon ep0 http...\n",
      "Name: clean_text, Length: 3831, dtype: object \n",
      "\n",
      "****************************************************************************************************************************************************************************************************************************************************************************************************************************************************************************************************************************************************************************************************************************************************************************************************************************************************************************************************************************************************************************************************************************************************************************************************************************************************************************************************************************************\n",
      "****************************************************************************************************************************************************************************************************************************************************************************************************************************************************************************************************************************************************************************************************************************************************************************************************************************************************************************************************************************************************************************************************************************************************************************************************************************************************************************************************************************************\n",
      "****************************************************************************************************************************************************************************************************************************************************************************************************************************************************************************************************************************************************************************************************************************************************************************************************************************************************************************************************************************************************************************************************************************************************************************************************************************************************************************************************************************************\n"
     ]
    },
    {
     "data": {
      "text/plain": [
       "3831    switchfoot http twitpic com y zl awww that s a...\n",
       "3832    is upset that he can t update his facebook by ...\n",
       "3833    kenichan i dived many time for the ball manage...\n",
       "3834         my whole body feel itchy and like it on fire\n",
       "3835    nationwideclass no it s not behaving at all i ...\n",
       "                              ...                        \n",
       "7726                                         is that snow\n",
       "7727                   moulin rouge mad me cry once again\n",
       "7728    trying to shout but can t find people on the list\n",
       "7729    ughh can t find my red sox hat got ta wear thi...\n",
       "7730    slept wonderfully finally tried swatching for ...\n",
       "Name: clean_text, Length: 3900, dtype: object"
      ]
     },
     "execution_count": 13,
     "metadata": {},
     "output_type": "execute_result"
    }
   ],
   "source": [
    "depression_texts = df[df['is_depression'] == 1]\n",
    "no_depression_texts = df[df['is_depression'] == 0]\n",
    "\n",
    "print(depression_texts['clean_text'],'\\n')\n",
    "print('*'*1000)\n",
    "print('*'*1000)\n",
    "print('*'*1000)\n",
    "no_depression_texts['clean_text']"
   ]
  },
  {
   "cell_type": "code",
   "execution_count": 14,
   "metadata": {},
   "outputs": [
    {
     "data": {
      "text/plain": [
       "'#VerifyCleanTexts\\nfrom wordcloud import WordCloud, STOPWORDS\\nimport matplotlib.pyplot as plt\\nwords = \\'\\'.join(depression_texts[\\'clean_text\\'])\\nclean_word = \\' \\'.join([ word for word in words.split()\\n                      if \\'http\\' not in word\\n                          and not word.startswith(\\'@\\')\\n                          and word != \\'RT\\'\\n                      ])\\nstring = \"hola adios\"\\nwcloud = WordCloud(\\n    stopwords=STOPWORDS,\\n    background_color=\\'black\\',\\n    width=3000,\\n    height=2500,\\n).generate(clean_word)\\n\\nplt.figure(1, figsize=(12,12))\\nplt.imshow(wcloud)\\nplt.axis(\\'off\\')\\nplt.show()\\n\\nprint(clean_word)\"\\n'"
      ]
     },
     "execution_count": 14,
     "metadata": {},
     "output_type": "execute_result"
    }
   ],
   "source": [
    "\"\"\"#VerifyCleanTexts\n",
    "from wordcloud import WordCloud, STOPWORDS\n",
    "import matplotlib.pyplot as plt\n",
    "words = ''.join(depression_texts['clean_text'])\n",
    "clean_word = ' '.join([ word for word in words.split()\n",
    "                      if 'http' not in word\n",
    "                          and not word.startswith('@')\n",
    "                          and word != 'RT'\n",
    "                      ])\n",
    "string = \"hola adios\"\n",
    "wcloud = WordCloud(\n",
    "    stopwords=STOPWORDS,\n",
    "    background_color='black',\n",
    "    width=3000,\n",
    "    height=2500,\n",
    ").generate(clean_word)\n",
    "\n",
    "plt.figure(1, figsize=(12,12))\n",
    "plt.imshow(wcloud)\n",
    "plt.axis('off')\n",
    "plt.show()\n",
    "\n",
    "print(clean_word)\"\n",
    "\"\"\"\n"
   ]
  },
  {
   "cell_type": "code",
   "execution_count": 15,
   "metadata": {},
   "outputs": [
    {
     "name": "stderr",
     "output_type": "stream",
     "text": [
      "[nltk_data] Downloading package stopwords to /home/jordi/nltk_data...\n",
      "[nltk_data]   Package stopwords is already up-to-date!\n",
      "[nltk_data] Downloading package wordnet to /home/jordi/nltk_data...\n",
      "[nltk_data]   Package wordnet is already up-to-date!\n",
      "[nltk_data] Downloading package punkt to /home/jordi/nltk_data...\n",
      "[nltk_data]   Package punkt is already up-to-date!\n"
     ]
    },
    {
     "data": {
      "text/plain": [
       "0       understand people reply immediately op invitat...\n",
       "1       welcome r depression check post place take mom...\n",
       "2       anyone else instead sleeping depressed stay ni...\n",
       "3       kind stuffed around lot life delaying inevitab...\n",
       "4       sleep greatest comforting escape whenever wake...\n",
       "                              ...                        \n",
       "7726                                                 snow\n",
       "7727                                 moulin rouge mad cry\n",
       "7728                        trying shout find people list\n",
       "7729    ughh find red sox hat got ta wear creepy nick ...\n",
       "7730    slept wonderfully finally tried swatching new ...\n",
       "Name: clean_text, Length: 7731, dtype: object"
      ]
     },
     "execution_count": 15,
     "metadata": {},
     "output_type": "execute_result"
    }
   ],
   "source": [
    "#de reddit a words\n",
    "from nltk.corpus import stopwords\n",
    "nltk.download('stopwords')\n",
    "#Tokeniazar con nltk\n",
    "nltk.download('wordnet')\n",
    "from nltk.tokenize import word_tokenize\n",
    "nltk.download('punkt') \n",
    "from nltk.stem import WordNetLemmatizer\n",
    "\n",
    "\n",
    "def tweet_to_words (tweet): # tweet = comentario = será un coment de reddit\n",
    "    #Acá se filtra el ruido semántico con una expresión regular\n",
    "    letters_only= re.sub(\"[^a-zA-Z]\", \" \", tweet) # Expresión regular que filtra solo el texto nada de números o caracteres especiales\n",
    "    \n",
    "    #Acá hacemos tokenización con una forma básica\n",
    "    words = letters_only.lower().split() # Se genera una LISTA de palabras en minúscula, es una tokenizacion sencilla\n",
    "    #words = word_tokenize(letters_only.lower()) \n",
    "\n",
    "    #Eliminamos la stopwords\n",
    "    stops = set(stopwords.words(\"english\")) # Eliminamos palabras que no afecten el significado de la oración\n",
    "    lemmatizer = WordNetLemmatizer()\n",
    "    meaningful_words =[lemmatizer.lemmatize(w) for w in words if w not in stops]\n",
    "    #meaningful_words = [w for w in words if not w in stops] # Guardamos las stopwords\n",
    "    return(\" \".join( meaningful_words ))\n",
    "    \n",
    "df_ =  df\n",
    "df[\"clean_text\"] = df['clean_text'].apply(lambda x: tweet_to_words(x))\n",
    "df['clean_text']\n",
    "#Se quitan las stopwords, como pronombres, comas, signos, etc\n",
    "\n"
   ]
  },
  {
   "cell_type": "code",
   "execution_count": 16,
   "metadata": {},
   "outputs": [],
   "source": [
    "#Implementación Básica de un modelo, modificaremos a: Spacy?\n",
    "df['clean_text']\n",
    "df['is_depression']\n",
    "train, test = train_test_split(df, test_size=0.2, random_state=42)"
   ]
  },
  {
   "cell_type": "code",
   "execution_count": 17,
   "metadata": {},
   "outputs": [],
   "source": [
    "#Concetración de la data en listas\n",
    "\n",
    "train_clean_message = []\n",
    "for message in train['clean_text']:\n",
    "    train_clean_message.append(message)\n",
    "\n",
    "test_clean_message = []\n",
    "for message in test['clean_text']:\n",
    "    test_clean_message.append(message)"
   ]
  },
  {
   "cell_type": "code",
   "execution_count": 18,
   "metadata": {},
   "outputs": [],
   "source": [
    "#Vectorizamos el dataset\n",
    "\n",
    "#CountVectorizer va relacionado (en vectorización) a representación en BoW\n",
    "#Podría no ser el más adecuado para un chatbot con redes neuronales, modelos como TF-IDF dan peso a las palabras\n",
    "#O también Word Embeddings para capturar un significado profundo\n",
    "#Posiblemente el mejor sea vectorizar con modelo como Word Embeddings\n",
    "from sklearn.feature_extraction.text import CountVectorizer\n",
    "v = CountVectorizer(analyzer=\"word\")\n",
    "train_features = v.fit_transform(train_clean_message)\n",
    "test_features = v.transform(test_clean_message)\n"
   ]
  },
  {
   "cell_type": "code",
   "execution_count": 19,
   "metadata": {},
   "outputs": [
    {
     "name": "stdout",
     "output_type": "stream",
     "text": [
      "Accuracy of DecisionTreeClassifieris 0.9004524886877828\n",
      "              precision    recall  f1-score   support\n",
      "\n",
      "           0       0.91      0.89      0.90       803\n",
      "           1       0.89      0.91      0.90       744\n",
      "\n",
      "    accuracy                           0.90      1547\n",
      "   macro avg       0.90      0.90      0.90      1547\n",
      "weighted avg       0.90      0.90      0.90      1547\n",
      "\n"
     ]
    },
    {
     "data": {
      "text/plain": [
       "<Figure size 640x480 with 0 Axes>"
      ]
     },
     "metadata": {},
     "output_type": "display_data"
    },
    {
     "data": {
      "image/png": "[encoded data removed]",
      "text/plain": [
       "<Figure size 1200x800 with 1 Axes>"
      ]
     },
     "metadata": {},
     "output_type": "display_data"
    },
    {
     "name": "stdout",
     "output_type": "stream",
     "text": [
      "Accuracy of RandomForestClassifieris 0.9463477698771816\n",
      "              precision    recall  f1-score   support\n",
      "\n",
      "           0       0.98      0.92      0.95       830\n",
      "           1       0.91      0.97      0.94       717\n",
      "\n",
      "    accuracy                           0.95      1547\n",
      "   macro avg       0.95      0.95      0.95      1547\n",
      "weighted avg       0.95      0.95      0.95      1547\n",
      "\n"
     ]
    },
    {
     "data": {
      "text/plain": [
       "<Figure size 640x480 with 0 Axes>"
      ]
     },
     "metadata": {},
     "output_type": "display_data"
    },
    {
     "data": {
      "image/png": "[encoded data removed]",
      "text/plain": [
       "<Figure size 1200x800 with 1 Axes>"
      ]
     },
     "metadata": {},
     "output_type": "display_data"
    }
   ],
   "source": [
    "#Acá sería de elegir el modelo, por el momento lo haré con dos básicos\n",
    "import matplotlib.pyplot as plt\n",
    "Classifiers = [\n",
    "    DecisionTreeClassifier(),\n",
    "    RandomForestClassifier(n_estimators=200)\n",
    "]\n",
    "\n",
    "dense_features = train_features.toarray()\n",
    "dense_test = test_features.toarray()\n",
    "\n",
    "Accuracy = []\n",
    "Model = []\n",
    "\n",
    "\n",
    "for classifier in Classifiers:\n",
    "    try:\n",
    "        fit = classifier.fit(train_features, train['is_depression'])\n",
    "        pred = fit.predict(test_features)\n",
    "    except:\n",
    "        fit= classifier.fit(dense_features, train['is_depression'])\n",
    "        pred = fit.predict(dense_test)\n",
    "    accuracy = accuracy_score(pred, test['is_depression'])\n",
    "    Accuracy.append(accuracy)\n",
    "    Model.append(classifier.__class__.__name__)\n",
    "    print('Accuracy of '+classifier.__class__.__name__+'is '+str(accuracy))\n",
    "    print (classification_report (pred, test['is_depression']))\n",
    "    cm = confusion_matrix(pred, test['is_depression'])\n",
    "    plt.figure()\n",
    "    plot_confusion_matrix(cm, figsize=(12,8), hide_ticks=True, cmap=plt.cm.Reds)\n",
    "    plt.show()\n",
    "  \n",
    " "
   ]
  }
 ],
 "metadata": {
  "kernelspec": {
   "display_name": "entorno_sic",
   "language": "python",
   "name": "python3"
  },
  "language_info": {
   "codemirror_mode": {
    "name": "ipython",
    "version": 3
   },
   "file_extension": ".py",
   "mimetype": "text/x-python",
   "name": "python",
   "nbconvert_exporter": "python",
   "pygments_lexer": "ipython3",
   "version": "3.11.2"
  }
 },
 "nbformat": 4,
 "nbformat_minor": 2
}
