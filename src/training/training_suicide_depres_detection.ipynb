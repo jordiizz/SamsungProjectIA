{
 "cells": [
  {
   "cell_type": "code",
   "execution_count": 3,
   "metadata": {},
   "outputs": [],
   "source": [
    "import kagglehub\n",
    "import pandas as pd\n",
    "# Es un dataset para detectar patrones que indiquen tendencias depresivas y suicidas\n",
    "# Como target contiene solo dos valores [suicidal, non-suicidal]\n",
    "path = kagglehub.dataset_download(\"nikhileswarkomati/suicide-watch\")\n",
    "\n",
    "df = pd.read_csv('../data_sets/suicide_detection.csv')"
   ]
  },
  {
   "cell_type": "code",
   "execution_count": 4,
   "metadata": {},
   "outputs": [
    {
     "name": "stdout",
     "output_type": "stream",
     "text": [
      "   Unnamed: 0                                               text        class\n",
      "0           2  Ex Wife Threatening SuicideRecently I left my ...      suicide\n",
      "1           3  Am I weird I don't get affected by compliments...  non-suicide\n",
      "2           4  Finally 2020 is almost over... So I can never ...  non-suicide\n",
      "3           8          i need helpjust help me im crying so hard      suicide\n",
      "4           9  I’m so lostHello, my name is Adam (16) and I’v...      suicide\n",
      "['suicide' 'non-suicide']\n"
     ]
    }
   ],
   "source": [
    "print(df.head())\n",
    "print(df['class'].unique())"
   ]
  }
 ],
 "metadata": {
  "kernelspec": {
   "display_name": "entorno_sic",
   "language": "python",
   "name": "python3"
  },
  "language_info": {
   "codemirror_mode": {
    "name": "ipython",
    "version": 3
   },
   "file_extension": ".py",
   "mimetype": "text/x-python",
   "name": "python",
   "nbconvert_exporter": "python",
   "pygments_lexer": "ipython3",
   "version": "3.11.2"
  }
 },
 "nbformat": 4,
 "nbformat_minor": 2
}
