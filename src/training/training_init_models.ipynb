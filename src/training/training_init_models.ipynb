{
 "cells": [
  {
   "cell_type": "code",
   "execution_count": 2,
   "metadata": {},
   "outputs": [
    {
     "name": "stdout",
     "output_type": "stream",
     "text": [
      "Path to dataset files: /home/jordi/.cache/kagglehub/datasets/infamouscoder/depression-reddit-cleaned/versions/1\n",
      "Archivos:  []\n"
     ]
    }
   ],
   "source": [
    "import kagglehub\n",
    "import os\n",
    "import numpy as np\n",
    "import pandas as pd\n",
    "import re\n",
    "import nltk\n",
    "from nltk.corpus import stopwords\n",
    "from sklearn.model_selection import train_test_split\n",
    "from mlxtend.plotting import plot_confusion_matrix\n",
    "from sklearn.tree import DecisionTreeClassifier\n",
    "from sklearn.ensemble import RandomForestClassifier\n",
    "from sklearn.metrics import accuracy_score, confusion_matrix, classification_report\n",
    "\n",
    "\n",
    "\n",
    "path = kagglehub.dataset_download(\"infamouscoder/depression-reddit-cleaned\")\n",
    "print(\"Path to dataset files:\", path)\n",
    "print('Archivos: ', os.listdir(path=path))\n",
    "\n",
    "df = pd.read_csv('../data_sets/depression_dataset_reddit_cleaned.csv')"
   ]
  },
  {
   "cell_type": "code",
   "execution_count": 3,
   "metadata": {},
   "outputs": [
    {
     "name": "stdout",
     "output_type": "stream",
     "text": [
      "Cantidad de Filas 7731 -- Cantidad Columnas 2\n"
     ]
    },
    {
     "data": {
      "text/plain": [
       "clean_text       0\n",
       "is_depression    0\n",
       "dtype: int64"
      ]
     },
     "execution_count": 3,
     "metadata": {},
     "output_type": "execute_result"
    }
   ],
   "source": [
    "#df analysis\n",
    "df['is_depression'] = df['is_depression'].replace({0:'neutral', 1: 'depression'})\n",
    "len(df)\n",
    "df.head(3)\n",
    "filas, columns = df.shape\n",
    "print(f'Cantidad de Filas {filas} -- Cantidad Columnas {columns}')\n",
    "df.is_depression.unique() #Indicates probable depression boolean 1True 0False\n",
    "df.isna().sum() #Indicates data is already clean"
   ]
  },
  {
   "cell_type": "code",
   "execution_count": 4,
   "metadata": {},
   "outputs": [
    {
     "name": "stdout",
     "output_type": "stream",
     "text": [
      "0       we understand that most people who reply immed...\n",
      "1       welcome to r depression s check in post a plac...\n",
      "2       anyone else instead of sleeping more when depr...\n",
      "3       i ve kind of stuffed around a lot in my life d...\n",
      "4       sleep is my greatest and most comforting escap...\n",
      "                              ...                        \n",
      "3826    thlolo march eh it s because i don t want stre...\n",
      "3827    i hate it when i m having depression day and t...\n",
      "3828                               educational depression\n",
      "3829    dmt powder helping with depression amp anxiety...\n",
      "3830    the great depression money armageddon ep0 http...\n",
      "Name: clean_text, Length: 3831, dtype: object \n",
      "\n",
      "****************************************************************************************************\n",
      "****************************************************************************************************\n",
      "****************************************************************************************************\n"
     ]
    },
    {
     "data": {
      "text/plain": [
       "3831    switchfoot http twitpic com y zl awww that s a...\n",
       "3832    is upset that he can t update his facebook by ...\n",
       "3833    kenichan i dived many time for the ball manage...\n",
       "3834         my whole body feel itchy and like it on fire\n",
       "3835    nationwideclass no it s not behaving at all i ...\n",
       "                              ...                        \n",
       "7726                                         is that snow\n",
       "7727                   moulin rouge mad me cry once again\n",
       "7728    trying to shout but can t find people on the list\n",
       "7729    ughh can t find my red sox hat got ta wear thi...\n",
       "7730    slept wonderfully finally tried swatching for ...\n",
       "Name: clean_text, Length: 3900, dtype: object"
      ]
     },
     "execution_count": 4,
     "metadata": {},
     "output_type": "execute_result"
    }
   ],
   "source": [
    "depression_texts = df[df['is_depression'] == 'depression']\n",
    "no_depression_texts = df[df['is_depression'] == 'neutral']\n",
    "\n",
    "\n",
    "print(depression_texts['clean_text'],'\\n')\n",
    "print('*'*100)\n",
    "print('*'*100)\n",
    "print('*'*100)\n",
    "no_depression_texts['clean_text']"
   ]
  },
  {
   "cell_type": "code",
   "execution_count": 5,
   "metadata": {},
   "outputs": [
    {
     "name": "stderr",
     "output_type": "stream",
     "text": [
      "[nltk_data] Downloading package stopwords to /home/jordi/nltk_data...\n",
      "[nltk_data]   Package stopwords is already up-to-date!\n",
      "[nltk_data] Downloading package wordnet to /home/jordi/nltk_data...\n",
      "[nltk_data]   Package wordnet is already up-to-date!\n",
      "[nltk_data] Downloading package punkt to /home/jordi/nltk_data...\n",
      "[nltk_data]   Package punkt is already up-to-date!\n"
     ]
    },
    {
     "data": {
      "text/plain": [
       "0       understand people reply immediately op invitat...\n",
       "1       welcome r depression check post place take mom...\n",
       "2       anyone else instead sleeping depressed stay ni...\n",
       "3       kind stuffed around lot life delaying inevitab...\n",
       "4       sleep greatest comforting escape whenever wake...\n",
       "                              ...                        \n",
       "7726                                                 snow\n",
       "7727                                 moulin rouge mad cry\n",
       "7728                        trying shout find people list\n",
       "7729    ughh find red sox hat got ta wear creepy nick ...\n",
       "7730    slept wonderfully finally tried swatching new ...\n",
       "Name: clean_text, Length: 7731, dtype: object"
      ]
     },
     "execution_count": 5,
     "metadata": {},
     "output_type": "execute_result"
    }
   ],
   "source": [
    "#de reddit a words\n",
    "from nltk.corpus import stopwords\n",
    "nltk.download('stopwords')\n",
    "#Tokeniazar con nltk\n",
    "nltk.download('wordnet')\n",
    "from nltk.tokenize import word_tokenize\n",
    "nltk.download('punkt') \n",
    "from nltk.stem import WordNetLemmatizer\n",
    "\n",
    "\n",
    "def tweet_to_words (tweet): # tweet = comentario = será un coment de reddit\n",
    "    #Acá se filtra el ruido semántico con una expresión regular\n",
    "    letters_only= re.sub(\"[^a-zA-Z]\", \" \", tweet) # Expresión regular que filtra solo el texto nada de números o caracteres especiales\n",
    "    \n",
    "    #Acá hacemos tokenización con una forma básica\n",
    "    words = letters_only.lower().split() # Se genera una LISTA de palabras en minúscula, es una tokenizacion sencilla\n",
    "    #words = word_tokenize(letters_only.lower()) \n",
    "\n",
    "    #Eliminamos la stopwords\n",
    "    stops = set(stopwords.words(\"english\")) # Eliminamos palabras que no afecten el significado de la oración\n",
    "    lemmatizer = WordNetLemmatizer()\n",
    "    meaningful_words =[lemmatizer.lemmatize(w) for w in words if w not in stops]\n",
    "    #meaningful_words = [w for w in words if not w in stops] # Guardamos las stopwords\n",
    "    return(\" \".join( meaningful_words ))\n",
    "    \n",
    "df_ =  df\n",
    "df[\"clean_text\"] = df['clean_text'].apply(lambda x: tweet_to_words(x))\n",
    "df['clean_text']\n",
    "#Se quitan las stopwords, como pronombres, comas, signos, etc\n",
    "\n"
   ]
  },
  {
   "cell_type": "code",
   "execution_count": 6,
   "metadata": {},
   "outputs": [],
   "source": [
    "#Entrenamiento de Modelo\n",
    "df['clean_text']\n",
    "df['is_depression']\n",
    "train, test = train_test_split(df, test_size=0.2, random_state=42)"
   ]
  },
  {
   "cell_type": "code",
   "execution_count": 7,
   "metadata": {},
   "outputs": [],
   "source": [
    "#Concetración de la data en listas\n",
    "\n",
    "train_clean_message = []\n",
    "for message in train['clean_text']:\n",
    "    train_clean_message.append(message)\n",
    "\n",
    "test_clean_message = []\n",
    "for message in test['clean_text']:\n",
    "    test_clean_message.append(message)"
   ]
  },
  {
   "cell_type": "markdown",
   "metadata": {},
   "source": []
  },
  {
   "cell_type": "markdown",
   "metadata": {},
   "source": []
  },
  {
   "cell_type": "code",
   "execution_count": 8,
   "metadata": {},
   "outputs": [],
   "source": [
    "#Vectorizamos el dataset\n",
    "\n",
    "#CountVectorizer va relacionado (en vectorización) a representación en BoW\n",
    "#Podría no ser el más adecuado para un chatbot con redes neuronales, modelos como TF-IDF dan peso a las palabras\n",
    "#O también Word Embeddings para capturar un significado profundo\n",
    "#Posiblemente el mejor sea vectorizar con modelo como Word Embeddings\n",
    "from sklearn.feature_extraction.text import CountVectorizer, TfidfVectorizer\n",
    "\n",
    "v = TfidfVectorizer()\n",
    "\n",
    "train_features = v.fit_transform(train_clean_message)\n",
    "test_features = v.transform(test_clean_message)\n"
   ]
  },
  {
   "cell_type": "code",
   "execution_count": 9,
   "metadata": {},
   "outputs": [
    {
     "name": "stdout",
     "output_type": "stream",
     "text": [
      "Accuracy of DecisionTreeClassifieris 0.9153199741435035\n",
      "              precision    recall  f1-score   support\n",
      "\n",
      "  depression       0.89      0.93      0.91       733\n",
      "     neutral       0.94      0.90      0.92       814\n",
      "\n",
      "    accuracy                           0.92      1547\n",
      "   macro avg       0.92      0.92      0.92      1547\n",
      "weighted avg       0.92      0.92      0.92      1547\n",
      "\n"
     ]
    },
    {
     "data": {
      "text/plain": [
       "<Figure size 640x480 with 0 Axes>"
      ]
     },
     "metadata": {},
     "output_type": "display_data"
    },
    {
     "data": {
      "image/png": "[encoded data removed]",
      "text/plain": [
       "<Figure size 1200x800 with 1 Axes>"
      ]
     },
     "metadata": {},
     "output_type": "display_data"
    },
    {
     "name": "stdout",
     "output_type": "stream",
     "text": [
      "Accuracy of RandomForestClassifieris 0.9476405946994182\n",
      "              precision    recall  f1-score   support\n",
      "\n",
      "  depression       0.90      0.99      0.94       695\n",
      "     neutral       0.99      0.91      0.95       852\n",
      "\n",
      "    accuracy                           0.95      1547\n",
      "   macro avg       0.95      0.95      0.95      1547\n",
      "weighted avg       0.95      0.95      0.95      1547\n",
      "\n"
     ]
    },
    {
     "data": {
      "text/plain": [
       "<Figure size 640x480 with 0 Axes>"
      ]
     },
     "metadata": {},
     "output_type": "display_data"
    },
    {
     "data": {
      "image/png": "[encoded data removed]",
      "text/plain": [
       "<Figure size 1200x800 with 1 Axes>"
      ]
     },
     "metadata": {},
     "output_type": "display_data"
    },
    {
     "name": "stdout",
     "output_type": "stream",
     "text": [
      "Accuracy of MultinomialNBis 0.8073691014867486\n",
      "              precision    recall  f1-score   support\n",
      "\n",
      "  depression       0.99      0.72      0.84      1050\n",
      "     neutral       0.63      0.99      0.77       497\n",
      "\n",
      "    accuracy                           0.81      1547\n",
      "   macro avg       0.81      0.85      0.80      1547\n",
      "weighted avg       0.87      0.81      0.81      1547\n",
      "\n"
     ]
    },
    {
     "data": {
      "text/plain": [
       "<Figure size 640x480 with 0 Axes>"
      ]
     },
     "metadata": {},
     "output_type": "display_data"
    },
    {
     "data": {
      "image/png": "[encoded data removed]",
      "text/plain": [
       "<Figure size 1200x800 with 1 Axes>"
      ]
     },
     "metadata": {},
     "output_type": "display_data"
    },
    {
     "name": "stdout",
     "output_type": "stream",
     "text": [
      "Accuracy of SVCis 0.9566903684550744\n",
      "              precision    recall  f1-score   support\n",
      "\n",
      "  depression       0.95      0.97      0.96       747\n",
      "     neutral       0.97      0.95      0.96       800\n",
      "\n",
      "    accuracy                           0.96      1547\n",
      "   macro avg       0.96      0.96      0.96      1547\n",
      "weighted avg       0.96      0.96      0.96      1547\n",
      "\n"
     ]
    },
    {
     "data": {
      "text/plain": [
       "<Figure size 640x480 with 0 Axes>"
      ]
     },
     "metadata": {},
     "output_type": "display_data"
    },
    {
     "data": {
      "image/png": "[encoded data removed]",
      "text/plain": [
       "<Figure size 1200x800 with 1 Axes>"
      ]
     },
     "metadata": {},
     "output_type": "display_data"
    }
   ],
   "source": [
    "#Acá sería de elegir el modelo, por el momento lo haré con dos básicos\n",
    "import matplotlib.pyplot as plt\n",
    "from sklearn.naive_bayes import MultinomialNB\n",
    "from sklearn.svm import SVC\n",
    "\n",
    "modelo_1, modelo_2 = DecisionTreeClassifier(), RandomForestClassifier(n_estimators=200)\n",
    "modelo_3, modelo_4 = MultinomialNB(), SVC(kernel='linear')\n",
    "Classifiers = [\n",
    "    modelo_1,\n",
    "    modelo_2,\n",
    "    modelo_3,\n",
    "    modelo_4\n",
    "\n",
    "]\n",
    "\n",
    "dense_features = train_features.toarray()\n",
    "dense_test = test_features.toarray()\n",
    "\n",
    "Accuracy = []\n",
    "Model = []\n",
    "\n",
    "\n",
    "for classifier in Classifiers:\n",
    "    try:\n",
    "        fit = classifier.fit(train_features, train['is_depression'])\n",
    "        pred = fit.predict(test_features)\n",
    "    except:\n",
    "        fit= classifier.fit(dense_features, train['is_depression'])\n",
    "        pred = fit.predict(dense_test)\n",
    "    accuracy = accuracy_score(pred, test['is_depression'])\n",
    "    Accuracy.append(accuracy)\n",
    "    Model.append(classifier.__class__.__name__)\n",
    "    print('Accuracy of '+classifier.__class__.__name__+'is '+str(accuracy))\n",
    "    print (classification_report (pred, test['is_depression']))\n",
    "    cm = confusion_matrix(pred, test['is_depression'])\n",
    "    plt.figure()\n",
    "    plot_confusion_matrix(cm, figsize=(12,8), hide_ticks=True, cmap=plt.cm.Reds)\n",
    "    plt.show()\n",
    "\n",
    "    #import joblib\n",
    "    #joblib.dump(modelo_1, 'modeloTreeClassifier.pkl')\n",
    "    #joblib.dump(modelo_2, 'modeloRandomForest.pkl')\n",
    "\n",
    "  \n",
    " "
   ]
  },
  {
   "cell_type": "code",
   "execution_count": 10,
   "metadata": {},
   "outputs": [
    {
     "name": "stdout",
     "output_type": "stream",
     "text": [
      "Predicción: depression 0\n",
      "Predicción: neutral 1\n",
      "Predicción: depression 2\n",
      "Predicción: neutral 3\n",
      "Predicción: depression 4\n",
      "Predicción: depression 5\n",
      "Predicción: depression 6\n",
      "Predicción: depression 7\n",
      "Predicción: neutral 8\n",
      "Predicción: depression 9\n",
      "Predicción: depression 10\n",
      "Predicción: depression 11\n",
      "Predicción: depression 12\n",
      "Predicción: neutral 13\n",
      "Predicción: depression 14\n",
      "Predicción: neutral 15\n",
      "Predicción: neutral 16\n",
      "Predicción: neutral 17\n",
      "Predicción: depression 18\n",
      "Predicción: depression 19\n",
      "Predicción: depression 20\n",
      "Predicción: depression 21\n",
      "Predicción: neutral 22\n",
      "Predicción: depression 23\n",
      "Predicción: depression 24\n",
      "Predicción: neutral 25\n",
      "Predicción: neutral 26\n",
      "Predicción: depression 27\n",
      "Predicción: depression 28\n"
     ]
    }
   ],
   "source": [
    "#Prueba básica del chatbot\n",
    "\n",
    "\n",
    "mensaje = input('Hola qué tal estás?')\n",
    "\n",
    "\n",
    "mensaje_procesado = tweet_to_words(mensaje)\n",
    "t_features = v.transform([mensaje_procesado])  \n",
    "prediccion = modelo_1.predict(t_features)\n",
    "\n",
    "data_prueba =[\"I feel empty and like I have no purpose.\",\n",
    "              \"Today is a good day\",\n",
    "\"Nothing seems to matter anymore, and I can't find the energy to do anything.\",\n",
    "\"I don't want to get out of bed most days, i don´t like it,my life doesn´t have sense, i hate it\",\n",
    "\"It’s hard to find joy in anything anymore.\",\n",
    "\n",
    "\"I feel really sad for no reason.\",\n",
    "\"I don't want to talk to anyone or do anything.\",\n",
    "\"Everything feels overwhelming, even the simplest tasks.\",\n",
    "\"I can't stop thinking about how hopeless everything feels.\",\n",
    "\"I feel like I'm stuck in a dark place, and I can't escape.\",\n",
    "\"I don't see the point in anything anymore.\",\n",
    "\"I feel like I am a burden to the people around me.\",\n",
    "\"I just want to sleep and forget everything.\",\n",
    "\"I’m tired all the time, even after sleeping.\",\n",
    "\"I don’t care about things I used to enjoy.\",\n",
    "\"I feel disconnected from everything and everyone.\",\n",
    "\"It’s hard to concentrate or get excited about anything.\",\n",
    "\"I don’t see a future for myself.\",\n",
    "\"Everything I do feels like it’s not enough.\",\n",
    "\"Sometimes I feel like I don’t belong anywhere.\",\n",
    "\"I keep wondering if things will ever get better.\",\n",
    "\"I feel like I’m trapped in my own thoughts.\",      \n",
    "\"I just want to be left alone.\",\n",
    "\"It feels like there's a weight on my chest that I can’t shake off.\",\n",
    "\"I can’t find the motivation to take care of myself.\",\n",
    "\"I don feel good,\",\n",
    "\"i like this day\",\n",
    "\"i tried to help his family abandoned him so it wa really hard to change his perspective im addict too gambling addiction but i will do better i hope sorry just a rant i found about it yesterday his life situation forced him to live in a mental hospital for last year and at the beginning of march he wanted to go to the germany to work a escort march he mentioned that he leaf tomorrow march i texted are you alive yesterday by googling him i found a necrology of him he killed himself march he texted many time to me about suicide thought im so sad,1to me it seems like an empty meaningless phrase people use like cool but it s not going to help the fact that i m broke can t get out of bed some day and struggling through live now,\",\n",
    "\"let me tell you that my life hasn´t been the best lately, i don´t like to be like that, i wake up and i don´t feel nothing\"]\n",
    "\n",
    "data_p = [tweet_to_words(tweet) for tweet in data_prueba]\n",
    "t_features = v.transform(data_p)  \n",
    "\n",
    "prediccion = modelo_1.predict(t_features)\n",
    "pred = modelo_2.predict(t_features)\n",
    "pred2 = modelo_3.predict(t_features)\n",
    "pred3 = modelo_4.predict(t_features)\n",
    "\n",
    "# Mostrar las predicciones\n",
    "for i,mes in enumerate(data_p):\n",
    "    print(f\"Predicción: {prediccion[i]} {i}\")\n",
    "    #print(f\"Predicción: {pred[i]}\")\n",
    "    #print(f\"Predicción: {pred2[i]}\")\n",
    "    #print(f\"Predicción: {pred3[i]}\")\n",
    "\n",
    " #El primer modelo es mucho más cercano, el otro sufre de sobreajuste\n",
    "\n",
    "\n",
    "#Híbrido-- \n"
   ]
  },
  {
   "cell_type": "code",
   "execution_count": 11,
   "metadata": {},
   "outputs": [],
   "source": [
    "#Procesamiento de Data Completo"
   ]
  }
 ],
 "metadata": {
  "kernelspec": {
   "display_name": "entorno_sic",
   "language": "python",
   "name": "python3"
  },
  "language_info": {
   "codemirror_mode": {
    "name": "ipython",
    "version": 3
   },
   "file_extension": ".py",
   "mimetype": "text/x-python",
   "name": "python",
   "nbconvert_exporter": "python",
   "pygments_lexer": "ipython3",
   "version": "3.11.2"
  }
 },
 "nbformat": 4,
 "nbformat_minor": 2
}
